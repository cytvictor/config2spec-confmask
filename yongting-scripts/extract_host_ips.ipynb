{
 "cells": [
  {
   "cell_type": "code",
   "execution_count": 2,
   "id": "a0ab9aca-5f04-4140-9a3f-07466f864c79",
   "metadata": {},
   "outputs": [],
   "source": [
    "import glob\n",
    "import json\n",
    "import ipaddress"
   ]
  },
  {
   "cell_type": "code",
   "execution_count": 2,
   "id": "506de1a7-5e29-4662-a16d-775b86680072",
   "metadata": {},
   "outputs": [],
   "source": [
    "def read_hosts(path):\n",
    "    nws = set()\n",
    "    for h in glob.glob(path):\n",
    "        with open(h) as fp:\n",
    "            content = json.load(fp)\n",
    "            nws.add(ipaddress.ip_network(content['hostInterfaces']['eth0']['prefix'], strict=False))\n",
    "    return nws"
   ]
  },
  {
   "cell_type": "code",
   "execution_count": 3,
   "id": "c7dca493-42b0-4532-8883-b3c9f1e95bd0",
   "metadata": {},
   "outputs": [],
   "source": [
    "def find_in_lines(needle, search):\n",
    "    diff_specs = []\n",
    "    for i, l in enumerate(search.splitlines() if type(search) is str else search):\n",
    "        # print(needle.__str__())\n",
    "        if needle.__str__() in l:\n",
    "            diff_specs.append(l)\n",
    "            # print(f\"Found {needle} in line {i}:\", l)\n",
    "    return diff_specs"
   ]
  },
  {
   "cell_type": "code",
   "execution_count": 4,
   "id": "2c355a5c",
   "metadata": {},
   "outputs": [],
   "source": [
    "from pybatfish.client.session import Session\n",
    "def find_config_prefixes(path):\n",
    "  bf = Session(\"127.0.0.1\", 9997, 9996)\n",
    "  bf.set_network(\"test\")\n",
    "  bf.init_snapshot(path, name=\"test\", overwrite=True)\n",
    "\n",
    "  # Get the prefixes from the config\n",
    "  # interfaces = bf.q.interfaceProperties().answer().frame()\n",
    "  # print(dir(bf.q))\n",
    "  dat = set()\n",
    "  interfaces = bf.q.interfaceProperties().answer().frame()\n",
    "\n",
    "  for pfxs in interfaces['All_Prefixes']:\n",
    "    # print(pfxs)\n",
    "    for pfx in pfxs:\n",
    "      dat.add(ipaddress.ip_network(pfx, strict=False))\n",
    "\n",
    "  return dat\n",
    "  # print(interfaces)\n",
    "  # print(path)\n",
    "  "
   ]
  },
  {
   "cell_type": "code",
   "execution_count": 12,
   "id": "52a61c42-a39d-43ed-ae11-1075811407b1",
   "metadata": {},
   "outputs": [
    {
     "name": "stdout",
     "output_type": "stream",
     "text": [
      "network_name\tspecs#\tkept#\tfalse_positive#\tfalse_negative#\t#false_negative_fake_dsts\t#false_negative_fake_dsts\t#hosts\n",
      "origin\t64337\t64337\t0\t0\t0\t0\t36\n",
      "anonym-network-k2\t79803\t47361\t32442\t16976\t0\t20560\t72\n",
      "strawman-1-2-2\t72297\t44055\t28242\t20282\t0\t20560\t72\n",
      "anonym-network-k6-4-w-noise\t82924\t29930\t52994\t34407\t0\t42437\t144\n",
      "anonym-network-k2-2-w-noise\t51030\t26406\t24624\t37931\t0\t13111\t72\n",
      "strawman-1\t72297\t44055\t28242\t20282\t0\t20560\t72\n",
      "anonym-network-k6-2-w-noise\t52713\t30331\t22382\t34006\t0\t13273\t72\n",
      "strawman-1-6-2\t64295\t39548\t24747\t24789\t0\t18316\t72\n"
     ]
    }
   ],
   "source": [
    "NETWORKS_DIR = \"/home/yongting/research/configs/config2spec-confmask/scenarios/confmask/NetworkB-university\"\n",
    "networks = glob.glob(NETWORKS_DIR + \"/*\")\n",
    "networks.remove(f\"{NETWORKS_DIR}/origin\")\n",
    "networks.insert(0, f\"{NETWORKS_DIR}/origin\")\n",
    "print(\"network_name\", \"specs#\",\"kept#\",\"false_positive#\",\"false_negative#\",\"#false_negative_fake_dsts\",\"#false_negative_fake_dsts\",\"#hosts\", sep='\\t')\n",
    "orig_config_prefixes = set()\n",
    "orig_host_prefixes = set()\n",
    "\n",
    "for nw in networks:\n",
    "    nw_name = nw.split(\"/\")[-1]\n",
    "    find_config_prefixes(nw)\n",
    "    # if \"strawman\" in nw_name:\n",
    "    #     continue\n",
    "    # read host prefixes\n",
    "    if nw_name == \"origin\":\n",
    "        orig_host_prefixes = read_hosts(nw + \"/hosts/host*.json\")\n",
    "        orig_config_prefixes = find_config_prefixes(nw)\n",
    "        # print(orig_host_prefixes)\n",
    "        # print(orig_config_prefixes)\n",
    "    nw_host_pfxs = read_hosts(nw + \"/hosts/host*.json\")\n",
    "    nw_config_prefixes = find_config_prefixes(nw)\n",
    "    with open(NETWORKS_DIR + f\"/{nw_name}/policies.csv\", 'r') as fp:\n",
    "        nw_content = fp.read().__str__()\n",
    "    with open(NETWORKS_DIR + f\"/origin/policies.csv\", 'r') as fp:\n",
    "        origin_content = fp.read().__str__()\n",
    "    \n",
    "    origin_policies = set(origin_content.splitlines()[1:])\n",
    "    nw_policies = set(nw_content.splitlines()[1:])\n",
    "    fpos = nw_policies - origin_policies\n",
    "    fneg = origin_policies - nw_policies\n",
    "    kept = origin_policies & nw_policies\n",
    "\n",
    "    # fpos and fneg introduced by fake hosts\n",
    "    fneg_host_count = 0\n",
    "    fpos_host_count = 0\n",
    "    for pfx in (nw_host_pfxs - orig_host_prefixes).union(nw_config_prefixes - orig_config_prefixes):\n",
    "        diff_specs = find_in_lines(pfx, list(fneg))\n",
    "        fneg_host_count += len(diff_specs)\n",
    "        diff_specs = find_in_lines(pfx, list(fpos))\n",
    "        # print(diff_specs)\n",
    "        fpos_host_count += len(diff_specs)\n",
    "\n",
    "    # fpos and fneg introduced by fake links\n",
    "    # fneg_link_count = 0\n",
    "    # fpos_link_count = 0\n",
    "    # for pfx in nw_config_prefixes - orig_config_prefixes:\n",
    "    #     diff_specs = find_in_lines(pfx, list(fneg))\n",
    "    #     fneg_link_count += len(diff_specs)\n",
    "    #     diff_specs = find_in_lines(pfx, list(fpos))\n",
    "    #     # print(diff_specs)\n",
    "    #     fpos_link_count += len(diff_specs)\n",
    "    \n",
    "    # fpos_fake_dst_count = fpos_link_count + fpos_host_count\n",
    "    # fneg_fake_dst_count = fneg_link_count + fneg_host_count\n",
    "\n",
    "    with open(NETWORKS_DIR + f\"/{nw_name}/policies.csv\") as fp:\n",
    "        specs_count = len(fp.read().splitlines()) - 1\n",
    "    print(nw_name, specs_count, len(kept), len(fpos), len(fneg), fneg_host_count, fpos_host_count, len(nw_host_pfxs), sep=\"\\t\")\n",
    "    # break"
   ]
  },
  {
   "cell_type": "code",
   "execution_count": null,
   "id": "77085007",
   "metadata": {},
   "outputs": [],
   "source": [
    "def get_trace_accepted_count(traces):\n",
    "    accepted_count = 0\n",
    "    for t in traces[0]:\n",
    "        if t.disposition == \"ACCEPTED\":\n",
    "            accepted_count += 1\n",
    "    return accepted_count\n",
    "# print(accepted_count)\n",
    "# a.Traces[0][0].dict()"
   ]
  },
  {
   "cell_type": "code",
   "execution_count": null,
   "id": "db254177-1fc7-45a8-a63a-d13d518534cb",
   "metadata": {},
   "outputs": [
    {
     "name": "stdout",
     "output_type": "stream",
     "text": [
      "origin\n"
     ]
    },
    {
     "name": "stdout",
     "output_type": "stream",
     "text": [
      " - 1/1920\n",
      " - 2/1921\n",
      " - 3/1922\n",
      " - 4/1923\n",
      " - 5/1924\n",
      " - 6/1925\n",
      " - 7/1926\n",
      " - 8/1927\n",
      " - 9/1928\n",
      " - 10/1929\n",
      " - 11/1930\n",
      " - 12/1931\n",
      " - 13/1932\n",
      " - 14/1933\n",
      " - 15/1934\n",
      " - 16/1935\n",
      " - 17/1936\n",
      " - 18/1937\n",
      " - 19/1938\n",
      " - 20/1939\n",
      " - 21/1940\n",
      " - 22/1941\n"
     ]
    },
    {
     "ename": "KeyboardInterrupt",
     "evalue": "",
     "output_type": "error",
     "traceback": [
      "\u001b[0;31m---------------------------------------------------------------------------\u001b[0m",
      "\u001b[0;31mKeyboardInterrupt\u001b[0m                         Traceback (most recent call last)",
      "Cell \u001b[0;32mIn[55], line 43\u001b[0m\n\u001b[1;32m     40\u001b[0m dst_pfx \u001b[38;5;241m=\u001b[39m spec\u001b[38;5;241m.\u001b[39msplit(\u001b[38;5;124m\"\u001b[39m\u001b[38;5;124m,\u001b[39m\u001b[38;5;124m\"\u001b[39m)[\u001b[38;5;241m1\u001b[39m]\n\u001b[1;32m     41\u001b[0m \u001b[38;5;66;03m# print(policy_type, src_name, dst_name, dst_pfx)\u001b[39;00m\n\u001b[1;32m     42\u001b[0m \u001b[38;5;66;03m# result = bf.q.traceroute(startLocation='@enter(as2border1[GigabitEthernet2/0])', headers=HeaderConstraints(dstIps='2.34.201.10', srcIps='8.8.8.8')).answer().frame()\u001b[39;00m\n\u001b[0;32m---> 43\u001b[0m result \u001b[38;5;241m=\u001b[39m \u001b[43mbf\u001b[49m\u001b[38;5;241;43m.\u001b[39;49m\u001b[43mq\u001b[49m\u001b[38;5;241;43m.\u001b[39;49m\u001b[43mreachability\u001b[49m\u001b[43m(\u001b[49m\u001b[43mpathConstraints\u001b[49m\u001b[38;5;241;43m=\u001b[39;49m\u001b[43mPathConstraints\u001b[49m\u001b[43m(\u001b[49m\u001b[43mstartLocation\u001b[49m\u001b[43m \u001b[49m\u001b[38;5;241;43m=\u001b[39;49m\u001b[43m \u001b[49m\u001b[38;5;124;43mf\u001b[39;49m\u001b[38;5;124;43m'\u001b[39;49m\u001b[38;5;132;43;01m{\u001b[39;49;00m\u001b[43msrc_name\u001b[49m\u001b[38;5;132;43;01m}\u001b[39;49;00m\u001b[38;5;124;43m'\u001b[39;49m\u001b[43m)\u001b[49m\u001b[43m,\u001b[49m\u001b[43m \u001b[49m\u001b[43mheaders\u001b[49m\u001b[38;5;241;43m=\u001b[39;49m\u001b[43mHeaderConstraints\u001b[49m\u001b[43m(\u001b[49m\u001b[43mdstIps\u001b[49m\u001b[38;5;241;43m=\u001b[39;49m\u001b[43mdst_pfx\u001b[49m\u001b[43m,\u001b[49m\u001b[43m \u001b[49m\u001b[43msrcIps\u001b[49m\u001b[38;5;241;43m=\u001b[39;49m\u001b[38;5;124;43m'\u001b[39;49m\u001b[38;5;124;43m0.0.0.0/0\u001b[39;49m\u001b[38;5;124;43m'\u001b[39;49m\u001b[43m)\u001b[49m\u001b[43m,\u001b[49m\u001b[43m \u001b[49m\u001b[43mactions\u001b[49m\u001b[38;5;241;43m=\u001b[39;49m\u001b[38;5;124;43m'\u001b[39;49m\u001b[38;5;124;43mSUCCESS\u001b[39;49m\u001b[38;5;124;43m'\u001b[39;49m\u001b[43m)\u001b[49m\u001b[38;5;241;43m.\u001b[39;49m\u001b[43manswer\u001b[49m\u001b[43m(\u001b[49m\u001b[43m)\u001b[49m\u001b[38;5;241m.\u001b[39mframe()\n\u001b[1;32m     44\u001b[0m \u001b[38;5;66;03m# trace = bf.q.traceroute(startLocation=\"host1\", headers=HeaderConstraints(dstIps=spec.split(\",\")[0])).answer().frame()\u001b[39;00m\n\u001b[1;32m     46\u001b[0m policy_holds \u001b[38;5;241m=\u001b[39m \u001b[38;5;28;01mFalse\u001b[39;00m\n",
      "File \u001b[0;32m~/anaconda3/envs/net2text311/lib/python3.11/site-packages/pybatfish/question/question.py:185\u001b[0m, in \u001b[0;36mQuestionBase.answer\u001b[0;34m(self, snapshot, reference_snapshot, include_one_table_keys, background, extra_args)\u001b[0m\n\u001b[1;32m    183\u001b[0m \u001b[38;5;28;01mif\u001b[39;00m include_one_table_keys \u001b[38;5;129;01mis\u001b[39;00m \u001b[38;5;129;01mnot\u001b[39;00m \u001b[38;5;28;01mNone\u001b[39;00m:\n\u001b[1;32m    184\u001b[0m     \u001b[38;5;28mself\u001b[39m\u001b[38;5;241m.\u001b[39m_set_include_one_table_keys(include_one_table_keys)\n\u001b[0;32m--> 185\u001b[0m \u001b[38;5;28;01mreturn\u001b[39;00m \u001b[43m_bf_answer_obj\u001b[49m\u001b[43m(\u001b[49m\n\u001b[1;32m    186\u001b[0m \u001b[43m    \u001b[49m\u001b[43msession\u001b[49m\u001b[38;5;241;43m=\u001b[39;49m\u001b[43msession\u001b[49m\u001b[43m,\u001b[49m\n\u001b[1;32m    187\u001b[0m \u001b[43m    \u001b[49m\u001b[43mquestion_str\u001b[49m\u001b[38;5;241;43m=\u001b[39;49m\u001b[38;5;28;43mself\u001b[39;49m\u001b[38;5;241;43m.\u001b[39;49m\u001b[43mjson\u001b[49m\u001b[43m(\u001b[49m\u001b[43m)\u001b[49m\u001b[43m,\u001b[49m\n\u001b[1;32m    188\u001b[0m \u001b[43m    \u001b[49m\u001b[43mquestion_name\u001b[49m\u001b[38;5;241;43m=\u001b[39;49m\u001b[38;5;28;43mself\u001b[39;49m\u001b[38;5;241;43m.\u001b[39;49m\u001b[43mget_name\u001b[49m\u001b[43m(\u001b[49m\u001b[43m)\u001b[49m\u001b[43m,\u001b[49m\n\u001b[1;32m    189\u001b[0m \u001b[43m    \u001b[49m\u001b[43mbackground\u001b[49m\u001b[38;5;241;43m=\u001b[39;49m\u001b[43mbackground\u001b[49m\u001b[43m,\u001b[49m\n\u001b[1;32m    190\u001b[0m \u001b[43m    \u001b[49m\u001b[43msnapshot\u001b[49m\u001b[38;5;241;43m=\u001b[39;49m\u001b[43mreal_snapshot\u001b[49m\u001b[43m,\u001b[49m\n\u001b[1;32m    191\u001b[0m \u001b[43m    \u001b[49m\u001b[43mreference_snapshot\u001b[49m\u001b[38;5;241;43m=\u001b[39;49m\u001b[43mreference_snapshot\u001b[49m\u001b[43m,\u001b[49m\n\u001b[1;32m    192\u001b[0m \u001b[43m    \u001b[49m\u001b[43mextra_args\u001b[49m\u001b[38;5;241;43m=\u001b[39;49m\u001b[43mextra_args\u001b[49m\u001b[43m,\u001b[49m\n\u001b[1;32m    193\u001b[0m \u001b[43m\u001b[49m\u001b[43m)\u001b[49m\n",
      "File \u001b[0;32m~/anaconda3/envs/net2text311/lib/python3.11/site-packages/pybatfish/client/internal.py:59\u001b[0m, in \u001b[0;36m_bf_answer_obj\u001b[0;34m(session, question_str, question_name, background, snapshot, reference_snapshot, extra_args)\u001b[0m\n\u001b[1;32m     55\u001b[0m \u001b[38;5;66;03m# Answer the question\u001b[39;00m\n\u001b[1;32m     56\u001b[0m work_item \u001b[38;5;241m=\u001b[39m workhelper\u001b[38;5;241m.\u001b[39mget_workitem_answer(\n\u001b[1;32m     57\u001b[0m     session, question_name, snapshot, reference_snapshot\n\u001b[1;32m     58\u001b[0m )\n\u001b[0;32m---> 59\u001b[0m \u001b[43mworkhelper\u001b[49m\u001b[38;5;241;43m.\u001b[39;49m\u001b[43mexecute\u001b[49m\u001b[43m(\u001b[49m\u001b[43mwork_item\u001b[49m\u001b[43m,\u001b[49m\u001b[43m \u001b[49m\u001b[43msession\u001b[49m\u001b[43m,\u001b[49m\u001b[43m \u001b[49m\u001b[43mbackground\u001b[49m\u001b[43m,\u001b[49m\u001b[43m \u001b[49m\u001b[43mextra_args\u001b[49m\u001b[43m)\u001b[49m\n\u001b[1;32m     61\u001b[0m \u001b[38;5;28;01mif\u001b[39;00m background:\n\u001b[1;32m     62\u001b[0m     \u001b[38;5;28;01mreturn\u001b[39;00m work_item\u001b[38;5;241m.\u001b[39mid\n",
      "File \u001b[0;32m~/anaconda3/envs/net2text311/lib/python3.11/site-packages/pybatfish/client/workhelper.py:114\u001b[0m, in \u001b[0;36mexecute\u001b[0;34m(work_item, session, background, extra_args)\u001b[0m\n\u001b[1;32m    112\u001b[0m \u001b[38;5;28;01mwhile\u001b[39;00m \u001b[38;5;129;01mnot\u001b[39;00m WorkStatusCode\u001b[38;5;241m.\u001b[39mis_terminated(status):\n\u001b[1;32m    113\u001b[0m     _print_work_status(session, status, task_details)\n\u001b[0;32m--> 114\u001b[0m     time\u001b[38;5;241m.\u001b[39msleep(cur_sleep)\n\u001b[1;32m    115\u001b[0m     cur_sleep \u001b[38;5;241m=\u001b[39m \u001b[38;5;28mmin\u001b[39m(\u001b[38;5;241m1.0\u001b[39m, cur_sleep \u001b[38;5;241m*\u001b[39m \u001b[38;5;241m1.5\u001b[39m)\n\u001b[1;32m    116\u001b[0m     answer \u001b[38;5;241m=\u001b[39m get_work_status(work_item\u001b[38;5;241m.\u001b[39mid, session)\n",
      "\u001b[0;31mKeyboardInterrupt\u001b[0m: "
     ]
    }
   ],
   "source": [
    "NETWORKS_DIR = \"/home/yongting/research/configs/config2spec-confmask/scenarios/confmask/fattree04-ospf\"\n",
    "networks = glob.glob(NETWORKS_DIR + \"/*\")\n",
    "networks.remove(f\"{NETWORKS_DIR}/origin\")\n",
    "networks.insert(0, f\"{NETWORKS_DIR}/origin\")\n",
    "from pybatfish.datamodel.flow import PathConstraints\n",
    "from pybatfish.client.session import Session, HeaderConstraints\n",
    "a = None\n",
    "bf = None\n",
    "for nw in networks:\n",
    "    nw_name = nw.split(\"/\")[-1]\n",
    "    print(nw_name)\n",
    "\n",
    "    bf = Session(\"127.0.0.1\", 9997, 9996)\n",
    "    bf.set_network(\"test\")\n",
    "    bf.init_snapshot(nw, name=\"test\", overwrite=True)\n",
    "\n",
    "    # verify specs one by one\n",
    "    with open(nw + \"/policies.csv\", 'r') as fp:\n",
    "        nw_specs_content = fp.read().__str__().splitlines()\n",
    "\n",
    "    specs_count = 0\n",
    "    holds_count = 0\n",
    "    holds_not_count = 0\n",
    "    i = 0\n",
    "    holds_specs = []\n",
    "    holds_not_specs = []\n",
    "    specs_count = len(nw_specs_content) - 1\n",
    "    \n",
    "    for spec in nw_specs_content[1:]:\n",
    "        # print(spec)\n",
    "        i += 1\n",
    "        print(f\" - {i}/{specs_count}\")\n",
    "        policy_type = spec.split(\",\")[0]\n",
    "        src_name = spec.split(\",\")[3]\n",
    "        dst_name = spec.split(\",\")[-2].split(':')[0][1:]\n",
    "        # if \"LoadBalancingSimple\" not in policy_type:\n",
    "        #     continue\n",
    "        # if src_name != 'e0-1' or dst_name != 'e2-1':\n",
    "        #     continue\n",
    "        dst_pfx = spec.split(\",\")[1]\n",
    "        # print(policy_type, src_name, dst_name, dst_pfx)\n",
    "        # result = bf.q.traceroute(startLocation='@enter(as2border1[GigabitEthernet2/0])', headers=HeaderConstraints(dstIps='2.34.201.10', srcIps='8.8.8.8')).answer().frame()\n",
    "        result = bf.q.reachability(pathConstraints=PathConstraints(startLocation = f'{src_name}'), headers=HeaderConstraints(dstIps=dst_pfx, srcIps='0.0.0.0/0'), actions='SUCCESS').answer().frame()\n",
    "        # trace = bf.q.traceroute(startLocation=\"host1\", headers=HeaderConstraints(dstIps=spec.split(\",\")[0])).answer().frame()\n",
    "\n",
    "        policy_holds = False\n",
    "        # specs_count += 1\n",
    "\n",
    "        if policy_type == \"PolicyType.Waypoint\":\n",
    "            pass\n",
    "\n",
    "        if policy_type == \"PolicyType.LoadBalancingSimple\":\n",
    "            accepted = get_trace_accepted_count(result.Traces)\n",
    "            if accepted == int(spec.split(\",\")[2]):\n",
    "                policy_holds = True\n",
    "            pass\n",
    "\n",
    "        if policy_type == \"PolicyType.Reachability\":\n",
    "            accepted = get_trace_accepted_count(result.Traces)\n",
    "            if accepted > 0:\n",
    "                policy_holds = True\n",
    "            pass\n",
    "\n",
    "        if policy_holds:\n",
    "            holds_count += 1\n",
    "            holds_specs.append(spec)\n",
    "        else:\n",
    "            holds_not_count += 1\n",
    "            print(\"NotHolds\", spec)\n",
    "            holds_not_specs.append(spec)\n",
    "\n",
    "        with open(f\"{nw}/policies-holds.csv\", \"w+\") as fp:\n",
    "            fp.write(\"\\n\".join(holds_specs))\n",
    "        with open(f\"{nw}/policies-holds-not.csv\", \"w+\") as fp:\n",
    "            fp.write(\"\\n\".join(holds_not_specs))\n",
    "        \n",
    "        a = result\n",
    "        # break\n",
    "    break"
   ]
  },
  {
   "cell_type": "code",
   "execution_count": 25,
   "id": "29400867-5d17-40d1-8886-5d2aba40fc81",
   "metadata": {},
   "outputs": [
    {
     "data": {
      "text/plain": [
       "<pybatfish.client.session.Session at 0x7f187c0e8550>"
      ]
     },
     "execution_count": 25,
     "metadata": {},
     "output_type": "execute_result"
    }
   ],
   "source": [
    "bf.q.traceroute(startLocation='@enter(er1[GigabitEthernet2/0])', headers=HeaderConstraints(dstIps='"
   ]
  },
  {
   "cell_type": "code",
   "execution_count": 51,
   "id": "5626e68f",
   "metadata": {},
   "outputs": [],
   "source": []
  },
  {
   "cell_type": "code",
   "execution_count": null,
   "id": "26b253c5",
   "metadata": {},
   "outputs": [],
   "source": []
  }
 ],
 "metadata": {
  "kernelspec": {
   "display_name": "Python 3",
   "language": "python",
   "name": "python3"
  },
  "language_info": {
   "codemirror_mode": {
    "name": "ipython",
    "version": 3
   },
   "file_extension": ".py",
   "mimetype": "text/x-python",
   "name": "python",
   "nbconvert_exporter": "python",
   "pygments_lexer": "ipython3",
   "version": "3.11.5"
  }
 },
 "nbformat": 4,
 "nbformat_minor": 5
}
