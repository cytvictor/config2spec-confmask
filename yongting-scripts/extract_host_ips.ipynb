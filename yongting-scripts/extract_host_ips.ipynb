{
 "cells": [
  {
   "cell_type": "code",
   "execution_count": 1,
   "id": "a0ab9aca-5f04-4140-9a3f-07466f864c79",
   "metadata": {},
   "outputs": [],
   "source": [
    "import glob\n",
    "import json\n",
    "import ipaddress"
   ]
  },
  {
   "cell_type": "code",
   "execution_count": 2,
   "id": "506de1a7-5e29-4662-a16d-775b86680072",
   "metadata": {},
   "outputs": [],
   "source": [
    "def read_hosts(path):\n",
    "    nws = set()\n",
    "    for h in glob.glob(path):\n",
    "        with open(h) as fp:\n",
    "            content = json.load(fp)\n",
    "            nws.add(ipaddress.ip_network(content['hostInterfaces']['eth0']['prefix'], strict=False))\n",
    "    return nws"
   ]
  },
  {
   "cell_type": "code",
   "execution_count": 3,
   "id": "c7dca493-42b0-4532-8883-b3c9f1e95bd0",
   "metadata": {},
   "outputs": [],
   "source": [
    "def find_in_lines(needle, search):\n",
    "    diff_specs = []\n",
    "    for i, l in enumerate(search.splitlines() if type(search) is str else search):\n",
    "        # print(needle.__str__())\n",
    "        if needle.__str__() in l:\n",
    "            diff_specs.append(l)\n",
    "            # print(f\"Found {needle} in line {i}:\", l)\n",
    "    return diff_specs"
   ]
  },
  {
   "cell_type": "code",
   "execution_count": 4,
   "id": "2c355a5c",
   "metadata": {},
   "outputs": [],
   "source": [
    "from pybatfish.client.session import Session\n",
    "def find_config_prefixes(path):\n",
    "  bf = Session(\"127.0.0.1\", 9997, 9996)\n",
    "  bf.set_network(\"test\")\n",
    "  bf.init_snapshot(path, name=\"test\", overwrite=True)\n",
    "\n",
    "  # Get the prefixes from the config\n",
    "  # interfaces = bf.q.interfaceProperties().answer().frame()\n",
    "  # print(dir(bf.q))\n",
    "  dat = set()\n",
    "  interfaces = bf.q.interfaceProperties().answer().frame()\n",
    "\n",
    "  for pfxs in interfaces['All_Prefixes']:\n",
    "    # print(pfxs)\n",
    "    for pfx in pfxs:\n",
    "      dat.add(ipaddress.ip_network(pfx, strict=False))\n",
    "\n",
    "  return dat\n",
    "  # print(interfaces)\n",
    "  # print(path)\n",
    "  "
   ]
  },
  {
   "cell_type": "code",
   "execution_count": 12,
   "id": "52a61c42-a39d-43ed-ae11-1075811407b1",
   "metadata": {},
   "outputs": [
    {
     "name": "stdout",
     "output_type": "stream",
     "text": [
      "network_name\tspecs#\tkept#\tfalse_positive#\tfalse_negative#\t#false_negative_fakehost\t#false_positive_fakehost\t#false_negative_fakelink\t#false_positive_fakelink\t#false_negative_fake_dsts\t#false_positive_fake_dsts\t#hosts\n",
      "origin\t17322\t17322\t0\t0\t0\t0\t0\t0\t0\t0\t66\n",
      "anonym-network-k4\t28690\t17157\t11533\t165\t0\t11476\t0\t11476\t0\t22952\t132\n",
      "strawman-1-6-4\t46305\t13155\t33150\t4167\t0\t30870\t0\t30870\t0\t61740\t264\n",
      "anonym-network-k6-4-w-noise\t51660\t17127\t34533\t195\t0\t34440\t0\t34440\t0\t68880\t264\n",
      "anonym-network-k6\t28565\t17004\t11561\t318\t0\t11426\t0\t11426\t0\t22852\t132\n",
      "anonym-network-k2-w-noise\t28745\t17178\t11567\t144\t0\t11498\t0\t11498\t0\t22996\t132\n",
      "anonym-network-k10\t23505\t11631\t11874\t5691\t0\t9402\t0\t9402\t0\t18804\t132\n",
      "strawman-2\t25105\t12924\t12181\t4398\t0\t10042\t0\t10042\t0\t20084\t132\n",
      "strawman-1\t25030\t12816\t12214\t4506\t0\t10012\t0\t10012\t0\t20024\t132\n",
      "anonym-network-k6-4\t51588\t17061\t34527\t261\t0\t34392\t0\t34392\t0\t68784\t264\n"
     ]
    }
   ],
   "source": [
    "NETWORKS_DIR = \"/home/yongting/research/configs/config2spec-confmask/scenarios/confmask/fattree08-ospf\"\n",
    "networks = glob.glob(NETWORKS_DIR + \"/*\")\n",
    "networks.remove(f\"{NETWORKS_DIR}/origin\")\n",
    "networks.insert(0, f\"{NETWORKS_DIR}/origin\")\n",
    "print(\"network_name\", \"specs#\",\"kept#\",\"false_positive#\",\"false_negative#\",\"#false_negative_fakehost\",\"#false_positive_fakehost\",\"#false_negative_fakelink\",\"#false_positive_fakelink\",\"#false_negative_fake_dsts\",\"#false_positive_fake_dsts\",\"#hosts\", sep='\\t')\n",
    "orig_config_prefixes = set()\n",
    "orig_host_prefixes = set()\n",
    "\n",
    "for nw in networks:\n",
    "    nw_name = nw.split(\"/\")[-1]\n",
    "    find_config_prefixes(nw)\n",
    "    # if \"strawman\" in nw_name:\n",
    "    #     continue\n",
    "    # read host prefixes\n",
    "    if nw_name == \"origin\":\n",
    "        orig_host_prefixes = read_hosts(nw + \"/hosts/host*.json\")\n",
    "        orig_config_prefixes = find_config_prefixes(nw)\n",
    "        # print(orig_host_prefixes)\n",
    "        # print(orig_config_prefixes)\n",
    "    nw_host_pfxs = read_hosts(nw + \"/hosts/host*.json\")\n",
    "    nw_config_prefixes = find_config_prefixes(nw)\n",
    "    with open(NETWORKS_DIR + f\"/{nw_name}/policies.csv\", 'r') as fp:\n",
    "        nw_content = fp.read().__str__()\n",
    "    with open(NETWORKS_DIR + f\"/origin/policies.csv\", 'r') as fp:\n",
    "        origin_content = fp.read().__str__()\n",
    "    \n",
    "    origin_policies = set(origin_content.splitlines()[1:])\n",
    "    nw_policies = set(nw_content.splitlines()[1:])\n",
    "    fpos = nw_policies - origin_policies\n",
    "    fneg = origin_policies - nw_policies\n",
    "    kept = origin_policies & nw_policies\n",
    "\n",
    "    # fpos and fneg introduced by fake hosts\n",
    "    fneg_host_count = 0\n",
    "    fpos_host_count = 0\n",
    "    for pfx in nw_host_pfxs - orig_host_prefixes:\n",
    "        diff_specs = find_in_lines(pfx, list(fneg))\n",
    "        fneg_host_count += len(diff_specs)\n",
    "        diff_specs = find_in_lines(pfx, list(fpos))\n",
    "        # print(diff_specs)\n",
    "        fpos_host_count += len(diff_specs)\n",
    "\n",
    "    # fpos and fneg introduced by fake links\n",
    "    fneg_link_count = 0\n",
    "    fpos_link_count = 0\n",
    "    for pfx in nw_config_prefixes - orig_config_prefixes:\n",
    "        diff_specs = find_in_lines(pfx, list(fneg))\n",
    "        fneg_link_count += len(diff_specs)\n",
    "        diff_specs = find_in_lines(pfx, list(fpos))\n",
    "        # print(diff_specs)\n",
    "        fpos_link_count += len(diff_specs)\n",
    "    \n",
    "    fpos_fake_dst_count = fpos_link_count + fpos_host_count\n",
    "    fneg_fake_dst_count = fneg_link_count + fneg_host_count\n",
    "\n",
    "    with open(NETWORKS_DIR + f\"/{nw_name}/policies.csv\") as fp:\n",
    "        specs_count = len(fp.read().splitlines()) - 1\n",
    "    print(nw_name, specs_count, len(kept), len(fpos), len(fneg), fneg_host_count, fpos_host_count, fneg_link_count, fpos_link_count, fneg_fake_dst_count, fpos_fake_dst_count, len(nw_host_pfxs), sep=\"\\t\")\n",
    "    # break"
   ]
  },
  {
   "cell_type": "code",
   "execution_count": null,
   "id": "db254177-1fc7-45a8-a63a-d13d518534cb",
   "metadata": {},
   "outputs": [],
   "source": [
    "NETWORKS_DIR = \"/home/yongting/research/configs/config2spec-confmask/scenarios/confmask/bics-ospf\"\n",
    "networks = glob.glob(NETWORKS_DIR + \"/*\")\n",
    "networks.remove(f\"{NETWORKS_DIR}/origin\")\n",
    "networks.insert(0, f\"{NETWORKS_DIR}/origin\")\n",
    "for nw in networks:\n",
    "    nw_name = nw.split(\"/\")[-1]\n",
    "    # read host prefixes\n",
    "    if nw_name == \"origin\":\n",
    "        orig_host_prefixes = read_hosts(nw + \"/hosts/host*.json\")\n",
    "    host_pfxs_count = len(read_hosts(nw + \"/hosts/host*.json\"))\n",
    "    # read diff\n",
    "    with open(NETWORKS_DIR + f\"/origin/not-in-{nw_name}.csv\", 'r') as fp:\n",
    "        diff_host_count = 0\n",
    "        content = fp.read().__str__()\n",
    "        for pfx in orig_host_prefixes:\n",
    "            diff_specs = find_in_lines(pfx, content)\n",
    "            diff_host_count += len(diff_specs)\n",
    "    with open(NETWORKS_DIR + f\"/{nw_name}/policies.csv\") as fp:\n",
    "        specs_count = len(fp.read().splitlines()) - 1\n",
    "    print(nw_name, specs_count, len(content.splitlines()), diff_host_count, host_pfxs_count, sep=\"\\t\")\n",
    "    # break"
   ]
  },
  {
   "cell_type": "code",
   "execution_count": null,
   "id": "29400867-5d17-40d1-8886-5d2aba40fc81",
   "metadata": {},
   "outputs": [],
   "source": []
  }
 ],
 "metadata": {
  "kernelspec": {
   "display_name": "Python 3",
   "language": "python",
   "name": "python3"
  },
  "language_info": {
   "codemirror_mode": {
    "name": "ipython",
    "version": 3
   },
   "file_extension": ".py",
   "mimetype": "text/x-python",
   "name": "python",
   "nbconvert_exporter": "python",
   "pygments_lexer": "ipython3",
   "version": "3.11.5"
  }
 },
 "nbformat": 4,
 "nbformat_minor": 5
}
