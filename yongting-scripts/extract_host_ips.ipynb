{
 "cells": [
  {
   "cell_type": "code",
   "execution_count": 1,
   "id": "a0ab9aca-5f04-4140-9a3f-07466f864c79",
   "metadata": {},
   "outputs": [],
   "source": [
    "import glob\n",
    "import json\n",
    "import ipaddress"
   ]
  },
  {
   "cell_type": "code",
   "execution_count": 2,
   "id": "506de1a7-5e29-4662-a16d-775b86680072",
   "metadata": {},
   "outputs": [],
   "source": [
    "def read_hosts(path):\n",
    "    nws = []\n",
    "    for h in glob.glob(path):\n",
    "        with open(h) as fp:\n",
    "            content = json.load(fp)\n",
    "            nws.append(ipaddress.ip_network(content['hostInterfaces']['eth0']['prefix'], strict=False))\n",
    "    return nws"
   ]
  },
  {
   "cell_type": "code",
   "execution_count": 12,
   "id": "c7dca493-42b0-4532-8883-b3c9f1e95bd0",
   "metadata": {},
   "outputs": [],
   "source": [
    "def find_in_lines(needle, search):\n",
    "    diff_specs = []\n",
    "    for i, l in enumerate(search.splitlines() if type(search) is str else search):\n",
    "        # print(needle.__str__())\n",
    "        if needle.__str__() in l:\n",
    "            diff_specs.append(l)\n",
    "            # print(f\"Found {needle} in line {i}:\", l)\n",
    "    return diff_specs"
   ]
  },
  {
   "cell_type": "code",
   "execution_count": 24,
   "id": "52a61c42-a39d-43ed-ae11-1075811407b1",
   "metadata": {},
   "outputs": [
    {
     "name": "stdout",
     "output_type": "stream",
     "text": [
      "network_name\tspecs#\tkept#\tfalse_positive#\tfalse_negative#\t#false_negative_fakehost\t#false_positive_fakehost\t#hosts\n",
      "origin\t462739\t462739\t0\t0\t0\t0\t55\n",
      "anonym-network-k2\t549945\t428519\t121426\t34220\t8148\t1704\t110\n",
      "anonym-network-k6\t430751\t273659\t157092\t189080\t48582\t17882\t110\n",
      "anonym-network-k10\t359407\t217487\t141920\t245252\t62361\t17334\t110\n",
      "anonym-network-k6-2-w-noise-n\t430751\t273659\t157092\t189080\t48582\t17882\t110\n",
      "strawman-1\t549945\t428519\t121426\t34220\t8148\t1704\t110\n",
      "anonym-network-k6-2-w-noise\t429344\t272835\t156509\t189904\t48699\t17720\t110\n"
     ]
    }
   ],
   "source": [
    "NETWORKS_DIR = \"/home/yongting/research/configs/config2spec-confmask/scenarios/confmask/uscarrier-ospf\"\n",
    "networks = glob.glob(NETWORKS_DIR + \"/*\")\n",
    "networks.remove(f\"{NETWORKS_DIR}/origin\")\n",
    "networks.insert(0, f\"{NETWORKS_DIR}/origin\")\n",
    "print(\"network_name\", \"specs#\",\"kept#\",\"false_positive#\",\"false_negative#\",\"#false_negative_fakehost\",\"#false_positive_fakehost\",\"#hosts\", sep='\\t')\n",
    "for nw in networks:\n",
    "    nw_name = nw.split(\"/\")[-1]\n",
    "    # if \"strawman\" in nw_name:\n",
    "    #     continue\n",
    "    # read host prefixes\n",
    "    if nw_name == \"origin\":\n",
    "        orig_host_prefixes = read_hosts(nw + \"/hosts/host*.json\")\n",
    "    host_pfxs_count = len(read_hosts(nw + \"/hosts/host*.json\"))\n",
    "    with open(NETWORKS_DIR + f\"/{nw_name}/policies.csv\", 'r') as fp:\n",
    "        nw_content = fp.read().__str__()\n",
    "    with open(NETWORKS_DIR + f\"/origin/policies.csv\", 'r') as fp:\n",
    "        origin_content = fp.read().__str__()\n",
    "    \n",
    "    origin_policies = set(origin_content.splitlines()[1:])\n",
    "    nw_policies = set(nw_content.splitlines()[1:])\n",
    "    fpos = nw_policies - origin_policies\n",
    "    fneg = origin_policies - nw_policies\n",
    "    kept = origin_policies & nw_policies\n",
    "\n",
    "    # read host\n",
    "    fneg_host_count = 0\n",
    "    fpos_host_count = 0\n",
    "    for pfx in orig_host_prefixes:\n",
    "        diff_specs = find_in_lines(pfx, list(fneg))\n",
    "        fneg_host_count += len(diff_specs)\n",
    "        diff_specs = find_in_lines(pfx, list(fpos))\n",
    "        fpos_host_count += len(diff_specs)\n",
    "\n",
    "    with open(NETWORKS_DIR + f\"/{nw_name}/policies.csv\") as fp:\n",
    "        specs_count = len(fp.read().splitlines()) - 1\n",
    "    print(nw_name, specs_count, len(kept), len(fpos), len(fneg), fneg_host_count, fpos_host_count, host_pfxs_count, sep=\"\\t\")\n",
    "    # break"
   ]
  },
  {
   "cell_type": "code",
   "execution_count": null,
   "id": "db254177-1fc7-45a8-a63a-d13d518534cb",
   "metadata": {},
   "outputs": [],
   "source": [
    "NETWORKS_DIR = \"/home/yongting/research/configs/config2spec-confmask/scenarios/confmask/bics-ospf\"\n",
    "networks = glob.glob(NETWORKS_DIR + \"/*\")\n",
    "networks.remove(f\"{NETWORKS_DIR}/origin\")\n",
    "networks.insert(0, f\"{NETWORKS_DIR}/origin\")\n",
    "for nw in networks:\n",
    "    nw_name = nw.split(\"/\")[-1]\n",
    "    # read host prefixes\n",
    "    if nw_name == \"origin\":\n",
    "        orig_host_prefixes = read_hosts(nw + \"/hosts/host*.json\")\n",
    "    host_pfxs_count = len(read_hosts(nw + \"/hosts/host*.json\"))\n",
    "    # read diff\n",
    "    with open(NETWORKS_DIR + f\"/origin/not-in-{nw_name}.csv\", 'r') as fp:\n",
    "        diff_host_count = 0\n",
    "        content = fp.read().__str__()\n",
    "        for pfx in orig_host_prefixes:\n",
    "            diff_specs = find_in_lines(pfx, content)\n",
    "            diff_host_count += len(diff_specs)\n",
    "    with open(NETWORKS_DIR + f\"/{nw_name}/policies.csv\") as fp:\n",
    "        specs_count = len(fp.read().splitlines()) - 1\n",
    "    print(nw_name, specs_count, len(content.splitlines()), diff_host_count, host_pfxs_count, sep=\"\\t\")\n",
    "    # break"
   ]
  },
  {
   "cell_type": "code",
   "execution_count": null,
   "id": "29400867-5d17-40d1-8886-5d2aba40fc81",
   "metadata": {},
   "outputs": [],
   "source": []
  }
 ],
 "metadata": {
  "kernelspec": {
   "display_name": "Python 3",
   "language": "python",
   "name": "python3"
  },
  "language_info": {
   "codemirror_mode": {
    "name": "ipython",
    "version": 3
   },
   "file_extension": ".py",
   "mimetype": "text/x-python",
   "name": "python",
   "nbconvert_exporter": "python",
   "pygments_lexer": "ipython3",
   "version": "3.6.13"
  }
 },
 "nbformat": 4,
 "nbformat_minor": 5
}
