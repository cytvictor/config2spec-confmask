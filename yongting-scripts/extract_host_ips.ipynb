{
 "cells": [
  {
   "cell_type": "code",
   "execution_count": 32,
   "id": "a0ab9aca-5f04-4140-9a3f-07466f864c79",
   "metadata": {},
   "outputs": [],
   "source": [
    "import glob\n",
    "import json\n",
    "import ipaddress"
   ]
  },
  {
   "cell_type": "code",
   "execution_count": 51,
   "id": "506de1a7-5e29-4662-a16d-775b86680072",
   "metadata": {},
   "outputs": [],
   "source": [
    "def read_hosts(path):\n",
    "    nws = []\n",
    "    for h in glob.glob(path):\n",
    "        with open(h) as fp:\n",
    "            content = json.load(fp)\n",
    "            nws.append(ipaddress.ip_network(content['hostInterfaces']['eth0']['prefix'], strict=False))\n",
    "    return nws"
   ]
  },
  {
   "cell_type": "code",
   "execution_count": 111,
   "id": "c7dca493-42b0-4532-8883-b3c9f1e95bd0",
   "metadata": {},
   "outputs": [],
   "source": [
    "def find_in_lines(needle, search):\n",
    "    diff_specs = []\n",
    "    for i, l in enumerate(search.splitlines()):\n",
    "        # print(needle.__str__())\n",
    "        if needle.__str__() in l:\n",
    "            diff_specs.append(l)\n",
    "            print(f\"Found {needle} in line {i}:\", l)\n",
    "    return diff_specs"
   ]
  },
  {
   "cell_type": "code",
   "execution_count": 110,
   "id": "52a61c42-a39d-43ed-ae11-1075811407b1",
   "metadata": {},
   "outputs": [
    {
     "name": "stdout",
     "output_type": "stream",
     "text": [
      "origin\t231\t0\t0\t9\n",
      "anonym-network-k6-w-noise\t1374\t5\t0\t36\n",
      "strawman-1-6-4\t1367\t7\t0\t36\n",
      "anonym-network-k6-4-w-noise\t1367\t7\t0\t36\n",
      "anonym-network-k6-6\t2074\t5\t0\t54\n",
      "anonym-network-k6-6-w-noise\t2102\t6\t0\t54\n",
      "strawman-2-6-2\t628\t6\t0\t18\n",
      "anonym-network-k6-2-w-noise-n\t628\t6\t0\t18\n",
      "strawman-1\t1374\t5\t0\t36\n",
      "anonym-network-k6-2-w-noise\t612\t5\t0\t18\n",
      "strawman-1-6-2\t628\t6\t0\t18\n",
      "anonym-network-k6-4\t1343\t8\t0\t36\n",
      "strawman-1-6-6\t2102\t6\t0\t54\n"
     ]
    }
   ],
   "source": [
    "NETWORKS_DIR = \"/home/yongting/research/configs/config2spec-confmask/scenarios/confmask/NetworkC-zoo\"\n",
    "networks = glob.glob(NETWORKS_DIR + \"/*\")\n",
    "networks.remove(f\"{NETWORKS_DIR}/origin\")\n",
    "networks.insert(0, f\"{NETWORKS_DIR}/origin\")\n",
    "for nw in networks:\n",
    "    nw_name = nw.split(\"/\")[-1]\n",
    "    # read host prefixes\n",
    "    if nw_name == \"origin\":\n",
    "        orig_host_prefixes = read_hosts(nw + \"/hosts/host*.json\")\n",
    "    host_pfxs_count = len(read_hosts(nw + \"/hosts/host*.json\"))\n",
    "    # read diff\n",
    "    with open(NETWORKS_DIR + f\"/origin/not-in-{nw_name}.csv\", 'r') as fp:\n",
    "        diff_host_count = 0\n",
    "        content = fp.read().__str__()\n",
    "        for pfx in orig_host_prefixes:\n",
    "            diff_specs = find_in_lines(pfx, content)\n",
    "            diff_host_count += len(diff_specs)\n",
    "    with open(NETWORKS_DIR + f\"/{nw_name}/policies.csv\") as fp:\n",
    "        specs_count = len(fp.read().splitlines()) - 1\n",
    "    print(nw_name, specs_count, len(content.splitlines()), diff_host_count, host_pfxs_count, sep=\"\\t\")\n",
    "    # break"
   ]
  },
  {
   "cell_type": "code",
   "execution_count": null,
   "id": "db254177-1fc7-45a8-a63a-d13d518534cb",
   "metadata": {},
   "outputs": [],
   "source": [
    "NETWORKS_DIR = \"/home/yongting/research/configs/config2spec-confmask/scenarios/confmask/bics-ospf\"\n",
    "networks = glob.glob(NETWORKS_DIR + \"/*\")\n",
    "networks.remove(f\"{NETWORKS_DIR}/origin\")\n",
    "networks.insert(0, f\"{NETWORKS_DIR}/origin\")\n",
    "for nw in networks:\n",
    "    nw_name = nw.split(\"/\")[-1]\n",
    "    # read host prefixes\n",
    "    if nw_name == \"origin\":\n",
    "        orig_host_prefixes = read_hosts(nw + \"/hosts/host*.json\")\n",
    "    host_pfxs_count = len(read_hosts(nw + \"/hosts/host*.json\"))\n",
    "    # read diff\n",
    "    with open(NETWORKS_DIR + f\"/origin/not-in-{nw_name}.csv\", 'r') as fp:\n",
    "        diff_host_count = 0\n",
    "        content = fp.read().__str__()\n",
    "        for pfx in orig_host_prefixes:\n",
    "            diff_specs = find_in_lines(pfx, content)\n",
    "            diff_host_count += len(diff_specs)\n",
    "    with open(NETWORKS_DIR + f\"/{nw_name}/policies.csv\") as fp:\n",
    "        specs_count = len(fp.read().splitlines()) - 1\n",
    "    print(nw_name, specs_count, len(content.splitlines()), diff_host_count, host_pfxs_count, sep=\"\\t\")\n",
    "    # break"
   ]
  },
  {
   "cell_type": "code",
   "execution_count": null,
   "id": "29400867-5d17-40d1-8886-5d2aba40fc81",
   "metadata": {},
   "outputs": [],
   "source": []
  }
 ],
 "metadata": {
  "kernelspec": {
   "display_name": "Python 3",
   "language": "python",
   "name": "python3"
  },
  "language_info": {
   "codemirror_mode": {
    "name": "ipython",
    "version": 3
   },
   "file_extension": ".py",
   "mimetype": "text/x-python",
   "name": "python",
   "nbconvert_exporter": "python",
   "pygments_lexer": "ipython3",
   "version": "3.6.13"
  }
 },
 "nbformat": 4,
 "nbformat_minor": 5
}
