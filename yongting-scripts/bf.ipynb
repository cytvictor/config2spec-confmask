{
 "cells": [
  {
   "cell_type": "code",
   "execution_count": null,
   "id": "61014e62-3dcc-41b9-8bc7-5c8ed8797f50",
   "metadata": {},
   "outputs": [],
   "source": [
    "!pip install pybatfish==2019.11.1.276"
   ]
  },
  {
   "cell_type": "code",
   "execution_count": 1,
   "id": "b2a2c905-3ab4-4d0e-b74e-8d8e5def5c37",
   "metadata": {},
   "outputs": [],
   "source": [
    "from pybatfish.client.session import Session  # noqa: F401\n",
    "import json\n",
    "import os\n",
    "import glob\n",
    "import shutil"
   ]
  },
  {
   "cell_type": "code",
   "execution_count": 6,
   "id": "d2f32f6d",
   "metadata": {},
   "outputs": [],
   "source": [
    "def write_network_fibs_latest_batfish(config_path):\n",
    "\n",
    "  bf = Session(host=\"localhost\")\n",
    "  bf.set_network('test')\n",
    "  bf.init_snapshot(config_path)\n",
    "  df = bf.q.routes().answer().frame()\n",
    "\n",
    "  fibs = {\n",
    "    # 'node_name': {\n",
    "    #   'default': [] list of fibs\n",
    "    # }\n",
    "  }\n",
    "  # append to node in format: network,nexthop,protocol\n",
    "  for index, row in df.iterrows():\n",
    "    if 'host' in row['Node']:\n",
    "      continue\n",
    "    if row['Node'] not in fibs:\n",
    "      fibs[row['Node']] = { }\n",
    "    if row['VRF'] not in fibs[row['Node']]:\n",
    "      fibs[row['Node']][row['VRF']] = []\n",
    "    # print(dir(row['Next_Hop'].interface))\n",
    "    if row['Protocol'] == 'local':\n",
    "      continue\n",
    "    proto = ''\n",
    "    if row['Protocol'] == 'connected':\n",
    "      proto = 'ConnectedRoute'\n",
    "    elif row['Protocol'] in ['ospf', 'ospfE2', 'ospfIA', 'bgp', 'static', 'ibgp', 'ebgp']:\n",
    "      proto = row['Protocol']\n",
    "    else:\n",
    "      raise Exception(\"Unsupported Protocol for route {}\".format(row['Protocol']))\n",
    "    next_hop_if = row['Next_Hop'].interface if 'interface' in dir(row['Next_Hop']) else 'null_interface'\n",
    "    # print\n",
    "    fibs[row['Node']][row['VRF']].append(row['Network'] + ';' + next_hop_if + ';' + proto)\n",
    "  # print(json.dumps(fibs, indent=2))\n",
    "\n",
    "  fib_txt = \"\"\n",
    "  for node in fibs:\n",
    "    fib_txt += \"# Router:{}\\n\".format(node)\n",
    "    # print(\"# Router:{}\".format(node))\n",
    "    for vrf in fibs[node]:\n",
    "      fib_txt += \"## VRF:{}\\n\".format(vrf)\n",
    "      # print(\"## VRF:{}\".format(vrf))\n",
    "      for fib in fibs[node][vrf]:\n",
    "        fib_txt += fib + \"\\n\"\n",
    "        # print(fib)\n",
    "  # print(fib_txt)\n",
    "  shutil.rmtree(config_path + '/fibs', )\n",
    "  os.makedirs(config_path + '/fibs', exist_ok=True)\n",
    "  with open(config_path + '/fibs/fib-1.txt', 'w') as f:\n",
    "    f.write(fib_txt)\n"
   ]
  },
  {
   "cell_type": "code",
   "execution_count": 10,
   "id": "6278082e",
   "metadata": {},
   "outputs": [
    {
     "name": "stdout",
     "output_type": "stream",
     "text": [
      "/home/yongting/research/configs/config2spec-confmask/scenarios/confmask/fattree08-ospf/anonym-network-k6-w-noise\n"
     ]
    },
    {
     "name": "stdout",
     "output_type": "stream",
     "text": [
      "/home/yongting/research/configs/config2spec-confmask/scenarios/confmask/fattree08-ospf/anonym-network-k2-w-noise\n",
      "/home/yongting/research/configs/config2spec-confmask/scenarios/confmask/fattree08-ospf/origin\n",
      "/home/yongting/research/configs/config2spec-confmask/scenarios/confmask/fattree08-ospf/anonym-network-k10-w-noise\n"
     ]
    }
   ],
   "source": [
    "# write_network_fibs_latest_batfish('/home/yongting/research/configs/config2spec-confmask/scenarios/confmask/NetworkA-CCNP/origin')\n",
    "for nw in glob.glob('/home/yongting/research/configs/config2spec-confmask/scenarios/confmask/fattree08-ospf/*'):\n",
    "  print(nw)\n",
    "  write_network_fibs_latest_batfish(nw)\n",
    "# write_network_fibs_latest_batfish('/home/yongting/research/configs/config2spec-confmask/scenarios/confmask/fattree04-ospf/anonym-network-k2-2-w-noise')"
   ]
  },
  {
   "cell_type": "code",
   "execution_count": 9,
   "id": "cca59792",
   "metadata": {},
   "outputs": [],
   "source": [
    "import requests\n",
    "import glob"
   ]
  },
  {
   "cell_type": "code",
   "execution_count": 35,
   "id": "103407fb",
   "metadata": {},
   "outputs": [],
   "source": [
    "def init(config_path):\n",
    "  config_files = glob.glob(config_path + \"/*.cfg\")\n",
    "  requests.post('http://localhost:8192/init_minesweeper', data=\"BasePath:{};ConfigPath:{};ConfigFiles:{}\".format(\n",
    "    \"/home/yongting/research/configs/batfish-73946b2f1bdea5f1146e4db4f2586e071da752df\",\n",
    "    config_path,\n",
    "    \",\".join([config_file.split(\"/\")[-1] for config_file in config_files])\n",
    "  ))\n",
    "def get_dataplane():\n",
    "  res = requests.post('http://localhost:8192/get_dataplane', data=\"\")\n",
    "  print(res.text)"
   ]
  },
  {
   "cell_type": "code",
   "execution_count": 36,
   "id": "04e443d4",
   "metadata": {},
   "outputs": [],
   "source": [
    "init(\"/home/yongting/research/configs/config2spec-confmask/scenarios/confmask/test/configs\")"
   ]
  },
  {
   "cell_type": "code",
   "execution_count": 37,
   "id": "79bcbc20",
   "metadata": {},
   "outputs": [
    {
     "name": "stdout",
     "output_type": "stream",
     "text": [
      "FIB:fib-1.txt\n"
     ]
    }
   ],
   "source": [
    "get_dataplane()"
   ]
  },
  {
   "cell_type": "code",
   "execution_count": 3,
   "id": "6b393ecb",
   "metadata": {},
   "outputs": [
    {
     "data": {
      "text/plain": [
       "'ss_25b83332-8532-40dc-8284-5b4432a65457'"
      ]
     },
     "execution_count": 3,
     "metadata": {},
     "output_type": "execute_result"
    }
   ],
   "source": [
    "from pybatfish.datamodel.flow import PathConstraints\n",
    "from pybatfish.client.session import Session, HeaderConstraints\n",
    "bf = Session()\n",
    "bf.set_network('test')\n",
    "bf.init_snapshot(\"/home/yongting/research/configs/config2spec-confmask/scenarios/confmask/NetworkC-zoo/anonym-network-k6-w-noise\", overwrite=True)"
   ]
  },
  {
   "cell_type": "code",
   "execution_count": 5,
   "id": "880c9e37",
   "metadata": {},
   "outputs": [],
   "source": [
    "a = bf.q.reachability(pathConstraints=PathConstraints(startLocation = f'r4'), headers=HeaderConstraints(dstIps='32.246.88.0/24', srcIps='0.0.0.0/0'), actions='SUCCESS').answer().frame()"
   ]
  },
  {
   "cell_type": "code",
   "execution_count": 8,
   "id": "811bbf4f",
   "metadata": {},
   "outputs": [
    {
     "data": {
      "text/html": [
       "<span style=\"color:#019612; text-weight:bold;\">EXITS_NETWORK</span><br><strong>1</strong>. node: r4<br>&nbsp;&nbsp;ORIGINATED(default)<br>&nbsp;&nbsp;FORWARDED(Forwarded out interface: GigabitEthernet80/0 with resolved next-hop IP: 117.10.234.180, Routes: [bgp (Network: 32.246.88.0/24, Next Hop: ip 117.10.234.180)])<br>&nbsp;&nbsp;TRANSMITTED(GigabitEthernet80/0)<br><strong>2</strong>. node: r6<br>&nbsp;&nbsp;RECEIVED(GigabitEthernet90/0)<br>&nbsp;&nbsp;FORWARDED(Forwarded out interface: GigabitEthernet140/0, Routes: [connected (Network: 32.246.88.0/24, Next Hop: interface GigabitEthernet140/0)])<br>&nbsp;&nbsp;TRANSMITTED(GigabitEthernet140/0)<br>&nbsp;&nbsp;EXITS_NETWORK(Output Interface: GigabitEthernet140/0, Resolved Next Hop IP: 32.246.88.0)"
      ],
      "text/plain": [
       "ListWrapper([((ORIGINATED(default), FORWARDED(Forwarded out interface: GigabitEthernet80/0 with resolved next-hop IP: 117.10.234.180, Routes: [bgp (Network: 32.246.88.0/24, Next Hop: ip 117.10.234.180)]), TRANSMITTED(GigabitEthernet80/0)), (RECEIVED(GigabitEthernet90/0), FORWARDED(Forwarded out interface: GigabitEthernet140/0, Routes: [connected (Network: 32.246.88.0/24, Next Hop: interface GigabitEthernet140/0)]), TRANSMITTED(GigabitEthernet140/0), EXITS_NETWORK(Output Interface: GigabitEthernet140/0, Resolved Next Hop IP: 32.246.88.0)))])"
      ]
     },
     "execution_count": 8,
     "metadata": {},
     "output_type": "execute_result"
    }
   ],
   "source": [
    "a.Traces[0]"
   ]
  },
  {
   "cell_type": "code",
   "execution_count": 10,
   "id": "a1dcb24f",
   "metadata": {},
   "outputs": [
    {
     "data": {
      "text/html": [
       "<div>\n",
       "<style scoped>\n",
       "    .dataframe tbody tr th:only-of-type {\n",
       "        vertical-align: middle;\n",
       "    }\n",
       "\n",
       "    .dataframe tbody tr th {\n",
       "        vertical-align: top;\n",
       "    }\n",
       "\n",
       "    .dataframe thead th {\n",
       "        text-align: right;\n",
       "    }\n",
       "</style>\n",
       "<table border=\"1\" class=\"dataframe\">\n",
       "  <thead>\n",
       "    <tr style=\"text-align: right;\">\n",
       "      <th></th>\n",
       "      <th>Node</th>\n",
       "      <th>VRF</th>\n",
       "      <th>Network</th>\n",
       "      <th>Next_Hop</th>\n",
       "      <th>Next_Hop_IP</th>\n",
       "      <th>Next_Hop_Interface</th>\n",
       "      <th>Protocol</th>\n",
       "      <th>Metric</th>\n",
       "      <th>Admin_Distance</th>\n",
       "      <th>Tag</th>\n",
       "    </tr>\n",
       "  </thead>\n",
       "  <tbody>\n",
       "    <tr>\n",
       "      <th>0</th>\n",
       "      <td>r4</td>\n",
       "      <td>default</td>\n",
       "      <td>32.246.88.0/24</td>\n",
       "      <td>ip 117.10.234.180</td>\n",
       "      <td>117.10.234.180</td>\n",
       "      <td>dynamic</td>\n",
       "      <td>bgp</td>\n",
       "      <td>0</td>\n",
       "      <td>20</td>\n",
       "      <td>None</td>\n",
       "    </tr>\n",
       "  </tbody>\n",
       "</table>\n",
       "</div>"
      ],
      "text/plain": [
       "  Node      VRF         Network           Next_Hop     Next_Hop_IP  \\\n",
       "0   r4  default  32.246.88.0/24  ip 117.10.234.180  117.10.234.180   \n",
       "\n",
       "  Next_Hop_Interface Protocol Metric Admin_Distance   Tag  \n",
       "0            dynamic      bgp      0             20  None  "
      ]
     },
     "execution_count": 10,
     "metadata": {},
     "output_type": "execute_result"
    }
   ],
   "source": [
    "bf.q.routes(nodes='r4', network='32.246.88.0/24').answer().frame()"
   ]
  },
  {
   "cell_type": "code",
   "execution_count": null,
   "id": "9f09ca88",
   "metadata": {},
   "outputs": [],
   "source": []
  }
 ],
 "metadata": {
  "kernelspec": {
   "display_name": "Python 3",
   "language": "python",
   "name": "python3"
  },
  "language_info": {
   "codemirror_mode": {
    "name": "ipython",
    "version": 3
   },
   "file_extension": ".py",
   "mimetype": "text/x-python",
   "name": "python",
   "nbconvert_exporter": "python",
   "pygments_lexer": "ipython3",
   "version": "3.11.5"
  }
 },
 "nbformat": 4,
 "nbformat_minor": 5
}
