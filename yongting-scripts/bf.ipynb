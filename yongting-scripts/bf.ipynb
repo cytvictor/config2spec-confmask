{
 "cells": [
  {
   "cell_type": "code",
   "execution_count": null,
   "id": "61014e62-3dcc-41b9-8bc7-5c8ed8797f50",
   "metadata": {},
   "outputs": [],
   "source": [
    "!pip install pybatfish==2019.11.1.276"
   ]
  },
  {
   "cell_type": "code",
   "execution_count": 11,
   "id": "b2a2c905-3ab4-4d0e-b74e-8d8e5def5c37",
   "metadata": {},
   "outputs": [],
   "source": [
    "from pybatfish.client.session import Session  # noqa: F401\n",
    "import json\n",
    "import os\n",
    "import glob"
   ]
  },
  {
   "cell_type": "code",
   "execution_count": 12,
   "id": "d2f32f6d",
   "metadata": {},
   "outputs": [],
   "source": [
    "def write_network_fibs_latest_batfish(config_path):\n",
    "\n",
    "  bf = Session(host=\"localhost\")\n",
    "  bf.set_network('test')\n",
    "  bf.init_snapshot(config_path)\n",
    "  df = bf.q.routes().answer().frame()\n",
    "\n",
    "  fibs = {\n",
    "    # 'node_name': {\n",
    "    #   'default': [] list of fibs\n",
    "    # }\n",
    "  }\n",
    "  # append to node in format: network,nexthop,protocol\n",
    "  for index, row in df.iterrows():\n",
    "    if 'host' in row['Node']:\n",
    "      continue\n",
    "    if row['Node'] not in fibs:\n",
    "      fibs[row['Node']] = { }\n",
    "    if row['VRF'] not in fibs[row['Node']]:\n",
    "      fibs[row['Node']][row['VRF']] = []\n",
    "    # print(dir(row['Next_Hop'].interface))\n",
    "    if row['Protocol'] == 'local':\n",
    "      continue\n",
    "    proto = ''\n",
    "    if row['Protocol'] == 'connected':\n",
    "      proto = 'ConnectedRoute'\n",
    "    elif row['Protocol'] in ['ospf', 'ospfE2', 'ospfIA', 'bgp', 'static', 'ibgp', 'ebgp']:\n",
    "      proto = row['Protocol']\n",
    "    else:\n",
    "      raise Exception(\"Unsupported Protocol for route {}\".format(row['Protocol']))\n",
    "    next_hop_if = row['Next_Hop'].interface if 'interface' in dir(row['Next_Hop']) else 'null_interface'\n",
    "    # print\n",
    "    fibs[row['Node']][row['VRF']].append(row['Network'] + ';' + next_hop_if + ';' + proto)\n",
    "  # print(json.dumps(fibs, indent=2))\n",
    "\n",
    "  fib_txt = \"\"\n",
    "  for node in fibs:\n",
    "    fib_txt += \"# Router:{}\\n\".format(node)\n",
    "    # print(\"# Router:{}\".format(node))\n",
    "    for vrf in fibs[node]:\n",
    "      fib_txt += \"## VRF:{}\\n\".format(vrf)\n",
    "      # print(\"## VRF:{}\".format(vrf))\n",
    "      for fib in fibs[node][vrf]:\n",
    "        fib_txt += fib + \"\\n\"\n",
    "        # print(fib)\n",
    "  # print(fib_txt)\n",
    "  os.removedirs(config_path + '/fibs')\n",
    "  os.makedirs(config_path + '/fibs', exist_ok=True)\n",
    "  with open(config_path + '/fibs/fib-1.txt', 'w') as f:\n",
    "    f.write(fib_txt)\n"
   ]
  },
  {
   "cell_type": "code",
   "execution_count": 14,
   "id": "6278082e",
   "metadata": {},
   "outputs": [
    {
     "name": "stdout",
     "output_type": "stream",
     "text": [
      "/home/yongting/research/configs/config2spec-confmask/scenarios/confmask/columbus-ospf/anonym-network-k2\n",
      "/home/yongting/research/configs/config2spec-confmask/scenarios/confmask/columbus-ospf/strawman-1-2-2\n",
      "/home/yongting/research/configs/config2spec-confmask/scenarios/confmask/columbus-ospf/anonym-network-k6-4-w-noise\n",
      "/home/yongting/research/configs/config2spec-confmask/scenarios/confmask/columbus-ospf/anonym-network-k2-2-w-noise\n",
      "/home/yongting/research/configs/config2spec-confmask/scenarios/confmask/columbus-ospf/origin\n",
      "/home/yongting/research/configs/config2spec-confmask/scenarios/confmask/columbus-ospf/strawman-1\n",
      "/home/yongting/research/configs/config2spec-confmask/scenarios/confmask/columbus-ospf/anonym-network-k6-2-w-noise\n",
      "/home/yongting/research/configs/config2spec-confmask/scenarios/confmask/columbus-ospf/strawman-1-6-2\n"
     ]
    }
   ],
   "source": [
    "# write_network_fibs_latest_batfish('/home/yongting/research/configs/config2spec-confmask/scenarios/confmask/NetworkA-CCNP/origin')\n",
    "for nw in glob.glob('/home/yongting/research/configs/config2spec-confmask/scenarios/confmask/columbus-ospf/*'):\n",
    "  print(nw)\n",
    "  write_network_fibs_latest_batfish(nw)\n",
    "# write_network_fibs_latest_batfish('/home/yongting/research/configs/config2spec-confmask/scenarios/confmask/fattree04-ospf/anonym-network-k2-2-w-noise')"
   ]
  },
  {
   "cell_type": "code",
   "execution_count": 9,
   "id": "cca59792",
   "metadata": {},
   "outputs": [],
   "source": [
    "import requests\n",
    "import glob"
   ]
  },
  {
   "cell_type": "code",
   "execution_count": 35,
   "id": "103407fb",
   "metadata": {},
   "outputs": [],
   "source": [
    "def init(config_path):\n",
    "  config_files = glob.glob(config_path + \"/*.cfg\")\n",
    "  requests.post('http://localhost:8192/init_minesweeper', data=\"BasePath:{};ConfigPath:{};ConfigFiles:{}\".format(\n",
    "    \"/home/yongting/research/configs/batfish-73946b2f1bdea5f1146e4db4f2586e071da752df\",\n",
    "    config_path,\n",
    "    \",\".join([config_file.split(\"/\")[-1] for config_file in config_files])\n",
    "  ))\n",
    "def get_dataplane():\n",
    "  res = requests.post('http://localhost:8192/get_dataplane', data=\"\")\n",
    "  print(res.text)"
   ]
  },
  {
   "cell_type": "code",
   "execution_count": 36,
   "id": "04e443d4",
   "metadata": {},
   "outputs": [],
   "source": [
    "init(\"/home/yongting/research/configs/config2spec-confmask/scenarios/confmask/test/configs\")"
   ]
  },
  {
   "cell_type": "code",
   "execution_count": 37,
   "id": "79bcbc20",
   "metadata": {},
   "outputs": [
    {
     "name": "stdout",
     "output_type": "stream",
     "text": [
      "FIB:fib-1.txt\n"
     ]
    }
   ],
   "source": [
    "get_dataplane()"
   ]
  },
  {
   "cell_type": "code",
   "execution_count": null,
   "id": "6b393ecb",
   "metadata": {},
   "outputs": [],
   "source": []
  }
 ],
 "metadata": {
  "kernelspec": {
   "display_name": "Python 3",
   "language": "python",
   "name": "python3"
  },
  "language_info": {
   "codemirror_mode": {
    "name": "ipython",
    "version": 3
   },
   "file_extension": ".py",
   "mimetype": "text/x-python",
   "name": "python",
   "nbconvert_exporter": "python",
   "pygments_lexer": "ipython3",
   "version": "3.11.5"
  }
 },
 "nbformat": 4,
 "nbformat_minor": 5
}
