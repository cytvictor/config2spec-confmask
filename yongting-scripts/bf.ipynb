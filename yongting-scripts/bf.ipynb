{
 "cells": [
  {
   "cell_type": "code",
   "execution_count": null,
   "id": "61014e62-3dcc-41b9-8bc7-5c8ed8797f50",
   "metadata": {},
   "outputs": [],
   "source": [
    "!pip install pybatfish==2019.11.1.276"
   ]
  },
  {
   "cell_type": "code",
   "execution_count": 4,
   "id": "b2a2c905-3ab4-4d0e-b74e-8d8e5def5c37",
   "metadata": {},
   "outputs": [],
   "source": [
    "from pybatfish.client.session import Session  # noqa: F401"
   ]
  },
  {
   "cell_type": "code",
   "execution_count": 5,
   "id": "22ac43b1-7ee7-4cf0-8b94-6790be099a73",
   "metadata": {},
   "outputs": [
    {
     "ename": "BatfishException",
     "evalue": "Coordinator returned failure: Failed to visit templates dir: questions",
     "output_type": "error",
     "traceback": [
      "\u001b[0;31m---------------------------------------------------------------------------\u001b[0m",
      "\u001b[0;31mBatfishException\u001b[0m                          Traceback (most recent call last)",
      "\u001b[0;32m<ipython-input-5-6c33d06ef9db>\u001b[0m in \u001b[0;36m<module>\u001b[0;34m\u001b[0m\n\u001b[0;32m----> 1\u001b[0;31m \u001b[0mbf\u001b[0m \u001b[0;34m=\u001b[0m \u001b[0mSession\u001b[0m\u001b[0;34m(\u001b[0m\u001b[0mhost\u001b[0m\u001b[0;34m=\u001b[0m\u001b[0;34m\"localhost\"\u001b[0m\u001b[0;34m)\u001b[0m\u001b[0;34m\u001b[0m\u001b[0;34m\u001b[0m\u001b[0m\n\u001b[0m",
      "\u001b[0;32m~/anaconda3/envs/cfgs/lib/python3.6/site-packages/pybatfish/client/session.py\u001b[0m in \u001b[0;36m__init__\u001b[0;34m(self, host, port_v1, port_v2, ssl, verify_ssl_certs, api_key, load_questions)\u001b[0m\n\u001b[1;32m    330\u001b[0m         \u001b[0;31m# Auto-load question templates\u001b[0m\u001b[0;34m\u001b[0m\u001b[0;34m\u001b[0m\u001b[0;34m\u001b[0m\u001b[0m\n\u001b[1;32m    331\u001b[0m         \u001b[0;32mif\u001b[0m \u001b[0mload_questions\u001b[0m\u001b[0;34m:\u001b[0m\u001b[0;34m\u001b[0m\u001b[0;34m\u001b[0m\u001b[0m\n\u001b[0;32m--> 332\u001b[0;31m             \u001b[0mself\u001b[0m\u001b[0;34m.\u001b[0m\u001b[0mq\u001b[0m\u001b[0;34m.\u001b[0m\u001b[0mload\u001b[0m\u001b[0;34m(\u001b[0m\u001b[0;34m)\u001b[0m\u001b[0;34m\u001b[0m\u001b[0;34m\u001b[0m\u001b[0m\n\u001b[0m\u001b[1;32m    333\u001b[0m \u001b[0;34m\u001b[0m\u001b[0m\n\u001b[1;32m    334\u001b[0m     \u001b[0;31m# Support old property names\u001b[0m\u001b[0;34m\u001b[0m\u001b[0;34m\u001b[0m\u001b[0;34m\u001b[0m\u001b[0m\n",
      "\u001b[0;32m~/anaconda3/envs/cfgs/lib/python3.6/site-packages/pybatfish/question/question.py\u001b[0m in \u001b[0;36mload\u001b[0;34m(self, directory)\u001b[0m\n\u001b[1;32m    301\u001b[0m             )\n\u001b[1;32m    302\u001b[0m         \u001b[0;32melse\u001b[0m\u001b[0;34m:\u001b[0m\u001b[0;34m\u001b[0m\u001b[0;34m\u001b[0m\u001b[0m\n\u001b[0;32m--> 303\u001b[0;31m             \u001b[0m_install_questions\u001b[0m\u001b[0;34m(\u001b[0m\u001b[0m_load_remote_questions_templates\u001b[0m\u001b[0;34m(\u001b[0m\u001b[0mself\u001b[0m\u001b[0;34m.\u001b[0m\u001b[0m_session\u001b[0m\u001b[0;34m)\u001b[0m\u001b[0;34m,\u001b[0m \u001b[0mself\u001b[0m\u001b[0;34m)\u001b[0m\u001b[0;34m\u001b[0m\u001b[0;34m\u001b[0m\u001b[0m\n\u001b[0m\u001b[1;32m    304\u001b[0m \u001b[0;34m\u001b[0m\u001b[0m\n\u001b[1;32m    305\u001b[0m \u001b[0;34m\u001b[0m\u001b[0m\n",
      "\u001b[0;32m~/anaconda3/envs/cfgs/lib/python3.6/site-packages/pybatfish/question/question.py\u001b[0m in \u001b[0;36m_load_remote_questions_templates\u001b[0;34m(session)\u001b[0m\n\u001b[1;32m    659\u001b[0m     \u001b[0mnum_questions\u001b[0m \u001b[0;34m=\u001b[0m \u001b[0;36m0\u001b[0m\u001b[0;34m\u001b[0m\u001b[0;34m\u001b[0m\u001b[0m\n\u001b[1;32m    660\u001b[0m     \u001b[0mremote_questions\u001b[0m \u001b[0;34m=\u001b[0m \u001b[0mset\u001b[0m\u001b[0;34m(\u001b[0m\u001b[0;34m)\u001b[0m\u001b[0;34m\u001b[0m\u001b[0;34m\u001b[0m\u001b[0m\n\u001b[0;32m--> 661\u001b[0;31m     \u001b[0mquestions_dict\u001b[0m \u001b[0;34m=\u001b[0m \u001b[0m_bf_get_question_templates\u001b[0m\u001b[0;34m(\u001b[0m\u001b[0msession\u001b[0m\u001b[0;34m)\u001b[0m\u001b[0;34m\u001b[0m\u001b[0;34m\u001b[0m\u001b[0m\n\u001b[0m\u001b[1;32m    662\u001b[0m     \u001b[0;32mfor\u001b[0m \u001b[0;34m(\u001b[0m\u001b[0mkey\u001b[0m\u001b[0;34m,\u001b[0m \u001b[0mvalue\u001b[0m\u001b[0;34m)\u001b[0m \u001b[0;32min\u001b[0m \u001b[0mquestions_dict\u001b[0m\u001b[0;34m.\u001b[0m\u001b[0mitems\u001b[0m\u001b[0;34m(\u001b[0m\u001b[0;34m)\u001b[0m\u001b[0;34m:\u001b[0m\u001b[0;34m\u001b[0m\u001b[0;34m\u001b[0m\u001b[0m\n\u001b[1;32m    663\u001b[0m         \u001b[0;32mtry\u001b[0m\u001b[0;34m:\u001b[0m\u001b[0;34m\u001b[0m\u001b[0;34m\u001b[0m\u001b[0m\n",
      "\u001b[0;32m~/anaconda3/envs/cfgs/lib/python3.6/site-packages/pybatfish/client/internal.py\u001b[0m in \u001b[0;36m_bf_get_question_templates\u001b[0;34m(session)\u001b[0m\n\u001b[1;32m     68\u001b[0m     \u001b[0mjsonData\u001b[0m \u001b[0;34m=\u001b[0m \u001b[0m_get_data_get_question_templates\u001b[0m\u001b[0;34m(\u001b[0m\u001b[0msession\u001b[0m\u001b[0;34m)\u001b[0m\u001b[0;34m\u001b[0m\u001b[0;34m\u001b[0m\u001b[0m\n\u001b[1;32m     69\u001b[0m     jsonResponse = resthelper.get_json_response(\n\u001b[0;32m---> 70\u001b[0;31m         \u001b[0msession\u001b[0m\u001b[0;34m,\u001b[0m \u001b[0mCoordConsts\u001b[0m\u001b[0;34m.\u001b[0m\u001b[0mSVC_RSC_GET_QUESTION_TEMPLATES\u001b[0m\u001b[0;34m,\u001b[0m \u001b[0mjsonData\u001b[0m\u001b[0;34m\u001b[0m\u001b[0;34m\u001b[0m\u001b[0m\n\u001b[0m\u001b[1;32m     71\u001b[0m     )\n\u001b[1;32m     72\u001b[0m     \u001b[0;32mreturn\u001b[0m \u001b[0mjsonResponse\u001b[0m\u001b[0;34m[\u001b[0m\u001b[0mCoordConsts\u001b[0m\u001b[0;34m.\u001b[0m\u001b[0mSVC_KEY_QUESTION_LIST\u001b[0m\u001b[0;34m]\u001b[0m\u001b[0;34m\u001b[0m\u001b[0;34m\u001b[0m\u001b[0m\n",
      "\u001b[0;32m~/anaconda3/envs/cfgs/lib/python3.6/site-packages/pybatfish/client/resthelper.py\u001b[0m in \u001b[0;36mget_json_response\u001b[0;34m(session, resource, jsonData, useHttpGet)\u001b[0m\n\u001b[1;32m     73\u001b[0m     \u001b[0;32mif\u001b[0m \u001b[0mjson_response\u001b[0m\u001b[0;34m[\u001b[0m\u001b[0;36m0\u001b[0m\u001b[0;34m]\u001b[0m \u001b[0;34m!=\u001b[0m \u001b[0mCoordConsts\u001b[0m\u001b[0;34m.\u001b[0m\u001b[0mSVC_KEY_SUCCESS\u001b[0m\u001b[0;34m:\u001b[0m\u001b[0;34m\u001b[0m\u001b[0;34m\u001b[0m\u001b[0m\n\u001b[1;32m     74\u001b[0m         raise BatfishException(\n\u001b[0;32m---> 75\u001b[0;31m             \u001b[0;34m\"Coordinator returned failure: {}\"\u001b[0m\u001b[0;34m.\u001b[0m\u001b[0mformat\u001b[0m\u001b[0;34m(\u001b[0m\u001b[0mjson_response\u001b[0m\u001b[0;34m[\u001b[0m\u001b[0;36m1\u001b[0m\u001b[0;34m]\u001b[0m\u001b[0;34m)\u001b[0m\u001b[0;34m\u001b[0m\u001b[0;34m\u001b[0m\u001b[0m\n\u001b[0m\u001b[1;32m     76\u001b[0m         )\n\u001b[1;32m     77\u001b[0m \u001b[0;34m\u001b[0m\u001b[0m\n",
      "\u001b[0;31mBatfishException\u001b[0m: Coordinator returned failure: Failed to visit templates dir: questions"
     ]
    }
   ],
   "source": [
    "bf = Session(host=\"localhost\")"
   ]
  },
  {
   "cell_type": "code",
   "execution_count": null,
   "id": "26000027-b50f-4266-aec9-219961866272",
   "metadata": {},
   "outputs": [],
   "source": []
  }
 ],
 "metadata": {
  "kernelspec": {
   "display_name": "Python 3",
   "language": "python",
   "name": "python3"
  },
  "language_info": {
   "codemirror_mode": {
    "name": "ipython",
    "version": 3
   },
   "file_extension": ".py",
   "mimetype": "text/x-python",
   "name": "python",
   "nbconvert_exporter": "python",
   "pygments_lexer": "ipython3",
   "version": "3.6.13"
  }
 },
 "nbformat": 4,
 "nbformat_minor": 5
}
